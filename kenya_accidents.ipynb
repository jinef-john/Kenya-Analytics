{
 "cells": [
  {
   "attachments": {},
   "cell_type": "markdown",
   "metadata": {},
   "source": [
    "## Desc\n",
    "In this notebook I am going to explore the data from the Kenya Traffic Accidents dataset. I will be looking at the data and trying to find some interesting insights. "
   ]
  },
  {
   "cell_type": "code",
   "execution_count": 1,
   "metadata": {},
   "outputs": [
    {
     "data": {
      "text/html": [
       "<div>\n",
       "<style scoped>\n",
       "    .dataframe tbody tr th:only-of-type {\n",
       "        vertical-align: middle;\n",
       "    }\n",
       "\n",
       "    .dataframe tbody tr th {\n",
       "        vertical-align: top;\n",
       "    }\n",
       "\n",
       "    .dataframe thead th {\n",
       "        text-align: right;\n",
       "    }\n",
       "</style>\n",
       "<table border=\"1\" class=\"dataframe\">\n",
       "  <thead>\n",
       "    <tr style=\"text-align: right;\">\n",
       "      <th></th>\n",
       "      <th>TIME 24 HOURS</th>\n",
       "      <th>BASE/SUB BASE</th>\n",
       "      <th>COUNTY</th>\n",
       "      <th>ROAD</th>\n",
       "      <th>PLACE</th>\n",
       "      <th>BRIEF ACCIDENT DETAILS</th>\n",
       "      <th>GENDER</th>\n",
       "      <th>AGE</th>\n",
       "      <th>CAUSE CODE</th>\n",
       "      <th>VICTIM</th>\n",
       "      <th>NO.</th>\n",
       "      <th>Date DD/MM/YYYY</th>\n",
       "      <th>Unnamed: 12</th>\n",
       "    </tr>\n",
       "  </thead>\n",
       "  <tbody>\n",
       "    <tr>\n",
       "      <th>0</th>\n",
       "      <td>630</td>\n",
       "      <td>KITUI</td>\n",
       "      <td>MAKUENI</td>\n",
       "      <td>KITUI-ITHOKWE</td>\n",
       "      <td>KITUI SCHOOL</td>\n",
       "      <td>HEAD ON COLLISION</td>\n",
       "      <td>M</td>\n",
       "      <td>26</td>\n",
       "      <td>7.0</td>\n",
       "      <td>M/CYCLIST</td>\n",
       "      <td>1</td>\n",
       "      <td>2016-06-25</td>\n",
       "      <td>so MM/DD/YYYY is the solution :)</td>\n",
       "    </tr>\n",
       "    <tr>\n",
       "      <th>1</th>\n",
       "      <td>830</td>\n",
       "      <td>VOI</td>\n",
       "      <td>TAITA TAVETA</td>\n",
       "      <td>MOMBASA-NAIROBI</td>\n",
       "      <td>IKANGA</td>\n",
       "      <td>HEAD ON COLLISION</td>\n",
       "      <td>M</td>\n",
       "      <td>28</td>\n",
       "      <td>25.0</td>\n",
       "      <td>M/CYCLIST</td>\n",
       "      <td>1</td>\n",
       "      <td>2016-06-25</td>\n",
       "      <td>NaN</td>\n",
       "    </tr>\n",
       "    <tr>\n",
       "      <th>2</th>\n",
       "      <td>1330</td>\n",
       "      <td>MARIAKANI</td>\n",
       "      <td>KILIFI</td>\n",
       "      <td>MOMBASA-NAIROBI</td>\n",
       "      <td>KATOLANI</td>\n",
       "      <td>THE UNKNOWN M/V HIT THE MOTOR CYCLE</td>\n",
       "      <td>M</td>\n",
       "      <td>A &amp; J</td>\n",
       "      <td>98.0</td>\n",
       "      <td>M/CYCLIST</td>\n",
       "      <td>1</td>\n",
       "      <td>2016-06-25</td>\n",
       "      <td>NaN</td>\n",
       "    </tr>\n",
       "    <tr>\n",
       "      <th>3</th>\n",
       "      <td>2100</td>\n",
       "      <td>ONGATA RONGAI</td>\n",
       "      <td>NAKURU</td>\n",
       "      <td>NAKURU-NAIROBI</td>\n",
       "      <td>MAASAI LODGE</td>\n",
       "      <td>THE VEHICLE KNOCKED DOWN A PEDESTRIAN WHO WAS ...</td>\n",
       "      <td>M</td>\n",
       "      <td>65</td>\n",
       "      <td>29.0</td>\n",
       "      <td>PEDESTRIAN</td>\n",
       "      <td>1</td>\n",
       "      <td>2016-06-25</td>\n",
       "      <td>NaN</td>\n",
       "    </tr>\n",
       "    <tr>\n",
       "      <th>4</th>\n",
       "      <td>1900</td>\n",
       "      <td>MATUU</td>\n",
       "      <td>MACHAKOS</td>\n",
       "      <td>MATUU-MWINGI</td>\n",
       "      <td>KIVANDINI</td>\n",
       "      <td>THE VEHICLE OVERTOOK A M/CYCLE AND LOST CONTRO...</td>\n",
       "      <td>M</td>\n",
       "      <td>A</td>\n",
       "      <td>10.0</td>\n",
       "      <td>PASSENGER</td>\n",
       "      <td>1</td>\n",
       "      <td>2016-06-25</td>\n",
       "      <td>NaN</td>\n",
       "    </tr>\n",
       "  </tbody>\n",
       "</table>\n",
       "</div>"
      ],
      "text/plain": [
       "  TIME 24 HOURS  BASE/SUB BASE        COUNTY             ROAD         PLACE  \\\n",
       "0           630          KITUI       MAKUENI    KITUI-ITHOKWE  KITUI SCHOOL   \n",
       "1           830            VOI  TAITA TAVETA  MOMBASA-NAIROBI        IKANGA   \n",
       "2          1330      MARIAKANI        KILIFI  MOMBASA-NAIROBI      KATOLANI   \n",
       "3          2100  ONGATA RONGAI        NAKURU   NAKURU-NAIROBI  MAASAI LODGE   \n",
       "4          1900          MATUU      MACHAKOS     MATUU-MWINGI     KIVANDINI   \n",
       "\n",
       "                              BRIEF ACCIDENT DETAILS GENDER    AGE  \\\n",
       "0                                  HEAD ON COLLISION      M     26   \n",
       "1                                  HEAD ON COLLISION      M     28   \n",
       "2                THE UNKNOWN M/V HIT THE MOTOR CYCLE      M  A & J   \n",
       "3  THE VEHICLE KNOCKED DOWN A PEDESTRIAN WHO WAS ...      M     65   \n",
       "4  THE VEHICLE OVERTOOK A M/CYCLE AND LOST CONTRO...      M      A   \n",
       "\n",
       "   CAUSE CODE      VICTIM  NO. Date DD/MM/YYYY  \\\n",
       "0         7.0   M/CYCLIST    1      2016-06-25   \n",
       "1        25.0   M/CYCLIST    1      2016-06-25   \n",
       "2        98.0   M/CYCLIST    1      2016-06-25   \n",
       "3        29.0  PEDESTRIAN    1      2016-06-25   \n",
       "4        10.0   PASSENGER    1      2016-06-25   \n",
       "\n",
       "                        Unnamed: 12  \n",
       "0  so MM/DD/YYYY is the solution :)  \n",
       "1                               NaN  \n",
       "2                               NaN  \n",
       "3                               NaN  \n",
       "4                               NaN  "
      ]
     },
     "execution_count": 1,
     "metadata": {},
     "output_type": "execute_result"
    }
   ],
   "source": [
    "import numpy as np\n",
    "import pandas as pd\n",
    "import matplotlib.pyplot as plt\n",
    "import seaborn as sns\n",
    "\n",
    "df = pd.read_excel('data\\kenya-accidents-database.xlsx')\n",
    "df.head()"
   ]
  },
  {
   "cell_type": "code",
   "execution_count": 2,
   "metadata": {},
   "outputs": [
    {
     "data": {
      "text/html": [
       "<div>\n",
       "<style scoped>\n",
       "    .dataframe tbody tr th:only-of-type {\n",
       "        vertical-align: middle;\n",
       "    }\n",
       "\n",
       "    .dataframe tbody tr th {\n",
       "        vertical-align: top;\n",
       "    }\n",
       "\n",
       "    .dataframe thead th {\n",
       "        text-align: right;\n",
       "    }\n",
       "</style>\n",
       "<table border=\"1\" class=\"dataframe\">\n",
       "  <thead>\n",
       "    <tr style=\"text-align: right;\">\n",
       "      <th></th>\n",
       "      <th>TIME 24 HOURS</th>\n",
       "      <th>BASE/SUB BASE</th>\n",
       "      <th>COUNTY</th>\n",
       "      <th>ROAD</th>\n",
       "      <th>PLACE</th>\n",
       "      <th>BRIEF ACCIDENT DETAILS</th>\n",
       "      <th>GENDER</th>\n",
       "      <th>AGE</th>\n",
       "      <th>CAUSE CODE</th>\n",
       "      <th>VICTIM</th>\n",
       "      <th>NO.</th>\n",
       "      <th>Date DD/MM/YYYY</th>\n",
       "    </tr>\n",
       "  </thead>\n",
       "  <tbody>\n",
       "    <tr>\n",
       "      <th>0</th>\n",
       "      <td>630</td>\n",
       "      <td>KITUI</td>\n",
       "      <td>MAKUENI</td>\n",
       "      <td>KITUI-ITHOKWE</td>\n",
       "      <td>KITUI SCHOOL</td>\n",
       "      <td>HEAD ON COLLISION</td>\n",
       "      <td>M</td>\n",
       "      <td>26</td>\n",
       "      <td>7.0</td>\n",
       "      <td>M/CYCLIST</td>\n",
       "      <td>1</td>\n",
       "      <td>2016-06-25</td>\n",
       "    </tr>\n",
       "    <tr>\n",
       "      <th>1</th>\n",
       "      <td>830</td>\n",
       "      <td>VOI</td>\n",
       "      <td>TAITA TAVETA</td>\n",
       "      <td>MOMBASA-NAIROBI</td>\n",
       "      <td>IKANGA</td>\n",
       "      <td>HEAD ON COLLISION</td>\n",
       "      <td>M</td>\n",
       "      <td>28</td>\n",
       "      <td>25.0</td>\n",
       "      <td>M/CYCLIST</td>\n",
       "      <td>1</td>\n",
       "      <td>2016-06-25</td>\n",
       "    </tr>\n",
       "    <tr>\n",
       "      <th>2</th>\n",
       "      <td>1330</td>\n",
       "      <td>MARIAKANI</td>\n",
       "      <td>KILIFI</td>\n",
       "      <td>MOMBASA-NAIROBI</td>\n",
       "      <td>KATOLANI</td>\n",
       "      <td>THE UNKNOWN M/V HIT THE MOTOR CYCLE</td>\n",
       "      <td>M</td>\n",
       "      <td>A &amp; J</td>\n",
       "      <td>98.0</td>\n",
       "      <td>M/CYCLIST</td>\n",
       "      <td>1</td>\n",
       "      <td>2016-06-25</td>\n",
       "    </tr>\n",
       "    <tr>\n",
       "      <th>3</th>\n",
       "      <td>2100</td>\n",
       "      <td>ONGATA RONGAI</td>\n",
       "      <td>NAKURU</td>\n",
       "      <td>NAKURU-NAIROBI</td>\n",
       "      <td>MAASAI LODGE</td>\n",
       "      <td>THE VEHICLE KNOCKED DOWN A PEDESTRIAN WHO WAS ...</td>\n",
       "      <td>M</td>\n",
       "      <td>65</td>\n",
       "      <td>29.0</td>\n",
       "      <td>PEDESTRIAN</td>\n",
       "      <td>1</td>\n",
       "      <td>2016-06-25</td>\n",
       "    </tr>\n",
       "    <tr>\n",
       "      <th>4</th>\n",
       "      <td>1900</td>\n",
       "      <td>MATUU</td>\n",
       "      <td>MACHAKOS</td>\n",
       "      <td>MATUU-MWINGI</td>\n",
       "      <td>KIVANDINI</td>\n",
       "      <td>THE VEHICLE OVERTOOK A M/CYCLE AND LOST CONTRO...</td>\n",
       "      <td>M</td>\n",
       "      <td>A</td>\n",
       "      <td>10.0</td>\n",
       "      <td>PASSENGER</td>\n",
       "      <td>1</td>\n",
       "      <td>2016-06-25</td>\n",
       "    </tr>\n",
       "  </tbody>\n",
       "</table>\n",
       "</div>"
      ],
      "text/plain": [
       "  TIME 24 HOURS  BASE/SUB BASE        COUNTY             ROAD         PLACE  \\\n",
       "0           630          KITUI       MAKUENI    KITUI-ITHOKWE  KITUI SCHOOL   \n",
       "1           830            VOI  TAITA TAVETA  MOMBASA-NAIROBI        IKANGA   \n",
       "2          1330      MARIAKANI        KILIFI  MOMBASA-NAIROBI      KATOLANI   \n",
       "3          2100  ONGATA RONGAI        NAKURU   NAKURU-NAIROBI  MAASAI LODGE   \n",
       "4          1900          MATUU      MACHAKOS     MATUU-MWINGI     KIVANDINI   \n",
       "\n",
       "                              BRIEF ACCIDENT DETAILS GENDER    AGE  \\\n",
       "0                                  HEAD ON COLLISION      M     26   \n",
       "1                                  HEAD ON COLLISION      M     28   \n",
       "2                THE UNKNOWN M/V HIT THE MOTOR CYCLE      M  A & J   \n",
       "3  THE VEHICLE KNOCKED DOWN A PEDESTRIAN WHO WAS ...      M     65   \n",
       "4  THE VEHICLE OVERTOOK A M/CYCLE AND LOST CONTRO...      M      A   \n",
       "\n",
       "   CAUSE CODE      VICTIM  NO. Date DD/MM/YYYY  \n",
       "0         7.0   M/CYCLIST    1      2016-06-25  \n",
       "1        25.0   M/CYCLIST    1      2016-06-25  \n",
       "2        98.0   M/CYCLIST    1      2016-06-25  \n",
       "3        29.0  PEDESTRIAN    1      2016-06-25  \n",
       "4        10.0   PASSENGER    1      2016-06-25  "
      ]
     },
     "execution_count": 2,
     "metadata": {},
     "output_type": "execute_result"
    }
   ],
   "source": [
    "# We dont need unnamed12 column so we are going to remove it\n",
    "df.drop('Unnamed: 12', axis=1, inplace=True)\n",
    "df.head()"
   ]
  },
  {
   "attachments": {},
   "cell_type": "markdown",
   "metadata": {},
   "source": [
    "## Data Cleaning"
   ]
  },
  {
   "cell_type": "code",
   "execution_count": 10,
   "metadata": {},
   "outputs": [
    {
     "data": {
      "text/plain": [
       "TIME 24 HOURS             2\n",
       "BASE/SUB BASE             0\n",
       "COUNTY                    2\n",
       "ROAD                      0\n",
       "PLACE                     0\n",
       "BRIEF ACCIDENT DETAILS    1\n",
       "GENDER                    0\n",
       "AGE                       0\n",
       "CAUSE CODE                6\n",
       "VICTIM                    0\n",
       "NO.                       0\n",
       "Date DD/MM/YYYY           0\n",
       "dtype: int64"
      ]
     },
     "execution_count": 10,
     "metadata": {},
     "output_type": "execute_result"
    }
   ],
   "source": [
    "# Check for null values\n",
    "df.isnull().sum()"
   ]
  },
  {
   "cell_type": "code",
   "execution_count": 11,
   "metadata": {},
   "outputs": [
    {
     "data": {
      "text/html": [
       "<div>\n",
       "<style scoped>\n",
       "    .dataframe tbody tr th:only-of-type {\n",
       "        vertical-align: middle;\n",
       "    }\n",
       "\n",
       "    .dataframe tbody tr th {\n",
       "        vertical-align: top;\n",
       "    }\n",
       "\n",
       "    .dataframe thead th {\n",
       "        text-align: right;\n",
       "    }\n",
       "</style>\n",
       "<table border=\"1\" class=\"dataframe\">\n",
       "  <thead>\n",
       "    <tr style=\"text-align: right;\">\n",
       "      <th></th>\n",
       "      <th>TIME 24 HOURS</th>\n",
       "      <th>BASE/SUB BASE</th>\n",
       "      <th>COUNTY</th>\n",
       "      <th>ROAD</th>\n",
       "      <th>PLACE</th>\n",
       "      <th>BRIEF ACCIDENT DETAILS</th>\n",
       "      <th>GENDER</th>\n",
       "      <th>AGE</th>\n",
       "      <th>CAUSE CODE</th>\n",
       "      <th>VICTIM</th>\n",
       "      <th>NO.</th>\n",
       "      <th>Date DD/MM/YYYY</th>\n",
       "    </tr>\n",
       "  </thead>\n",
       "  <tbody>\n",
       "    <tr>\n",
       "      <th>121</th>\n",
       "      <td>1530</td>\n",
       "      <td>KAYOLE</td>\n",
       "      <td>NAIROBI</td>\n",
       "      <td>KANGUNDO</td>\n",
       "      <td>KAMULU</td>\n",
       "      <td>THE VEHICLE KNOCKED DOWN THE VICTIM</td>\n",
       "      <td>F</td>\n",
       "      <td>A</td>\n",
       "      <td>NaN</td>\n",
       "      <td>PEDESTRIAN</td>\n",
       "      <td>1</td>\n",
       "      <td>2016-06-07</td>\n",
       "    </tr>\n",
       "    <tr>\n",
       "      <th>163</th>\n",
       "      <td>815</td>\n",
       "      <td>BOMET</td>\n",
       "      <td>BOMET</td>\n",
       "      <td>BOMET NAROK</td>\n",
       "      <td>MULOT</td>\n",
       "      <td>HEAD ON COLLISION</td>\n",
       "      <td>M</td>\n",
       "      <td>A</td>\n",
       "      <td>NaN</td>\n",
       "      <td>DRIVER</td>\n",
       "      <td>1</td>\n",
       "      <td>2016-04-30</td>\n",
       "    </tr>\n",
       "    <tr>\n",
       "      <th>164</th>\n",
       "      <td>NaN</td>\n",
       "      <td>VOI</td>\n",
       "      <td>TAITA TAVETA</td>\n",
       "      <td>MWATATE VOI</td>\n",
       "      <td>CKAHARELI</td>\n",
       "      <td>HEAD ON COLLISION</td>\n",
       "      <td>M</td>\n",
       "      <td>A</td>\n",
       "      <td>8.0</td>\n",
       "      <td>M/CYCLIST</td>\n",
       "      <td>1</td>\n",
       "      <td>2016-04-30</td>\n",
       "    </tr>\n",
       "    <tr>\n",
       "      <th>165</th>\n",
       "      <td>NaN</td>\n",
       "      <td>VOI</td>\n",
       "      <td>TAITA TAVETA</td>\n",
       "      <td>MWATATE VOI</td>\n",
       "      <td>CKAHARELI</td>\n",
       "      <td>HEAD ON COLLISION</td>\n",
       "      <td>M</td>\n",
       "      <td>A</td>\n",
       "      <td>8.0</td>\n",
       "      <td>P/PASENGER</td>\n",
       "      <td>1</td>\n",
       "      <td>2016-04-30</td>\n",
       "    </tr>\n",
       "    <tr>\n",
       "      <th>169</th>\n",
       "      <td>2100</td>\n",
       "      <td>SALAMA</td>\n",
       "      <td>MAKUENI</td>\n",
       "      <td>NAIROBI MOMBASA</td>\n",
       "      <td>KIONGWANI</td>\n",
       "      <td>NaN</td>\n",
       "      <td>M</td>\n",
       "      <td>A</td>\n",
       "      <td>NaN</td>\n",
       "      <td>DRIVER</td>\n",
       "      <td>1</td>\n",
       "      <td>2016-04-30</td>\n",
       "    </tr>\n",
       "    <tr>\n",
       "      <th>189</th>\n",
       "      <td>1210</td>\n",
       "      <td>HOMA BAY</td>\n",
       "      <td>HOMA BAY</td>\n",
       "      <td>RODI KOPANY RANGWE</td>\n",
       "      <td>TAUSI</td>\n",
       "      <td>THE VEHICLE KNOCKED DOWN THE VICTIM WHILE CROS...</td>\n",
       "      <td>F</td>\n",
       "      <td>11</td>\n",
       "      <td>NaN</td>\n",
       "      <td>PEDESTRIAN</td>\n",
       "      <td>1</td>\n",
       "      <td>2016-04-26</td>\n",
       "    </tr>\n",
       "    <tr>\n",
       "      <th>193</th>\n",
       "      <td>800</td>\n",
       "      <td>EMBAKASI</td>\n",
       "      <td>NAIROBI</td>\n",
       "      <td>MOMBASA</td>\n",
       "      <td>CABANAS</td>\n",
       "      <td>THE LORRY KNOCKED DOWN THE M/CYCLIST</td>\n",
       "      <td>M</td>\n",
       "      <td>A</td>\n",
       "      <td>NaN</td>\n",
       "      <td>P/PASSENGER</td>\n",
       "      <td>1</td>\n",
       "      <td>2016-04-26</td>\n",
       "    </tr>\n",
       "    <tr>\n",
       "      <th>326</th>\n",
       "      <td>2205</td>\n",
       "      <td>NANYUKI</td>\n",
       "      <td>NaN</td>\n",
       "      <td>KINAMBA</td>\n",
       "      <td>NGARUA</td>\n",
       "      <td>THE VEHICLE OVERTURNED KILLING 6 VICTIMS</td>\n",
       "      <td>4F &amp; INF</td>\n",
       "      <td>A</td>\n",
       "      <td>26.0</td>\n",
       "      <td>PASSENGER</td>\n",
       "      <td>6</td>\n",
       "      <td>2016-04-08</td>\n",
       "    </tr>\n",
       "    <tr>\n",
       "      <th>328</th>\n",
       "      <td>2142</td>\n",
       "      <td>KINANGOP</td>\n",
       "      <td>NaN</td>\n",
       "      <td>NJAMBINI OLKALAO</td>\n",
       "      <td>KAMAGUTA</td>\n",
       "      <td>THE VEHICLE HIT A PEDAL CYCLIST</td>\n",
       "      <td>M</td>\n",
       "      <td>33</td>\n",
       "      <td>98.0</td>\n",
       "      <td>P/CYCLIST</td>\n",
       "      <td>1</td>\n",
       "      <td>2016-04-08</td>\n",
       "    </tr>\n",
       "    <tr>\n",
       "      <th>362</th>\n",
       "      <td>800</td>\n",
       "      <td>NYERI</td>\n",
       "      <td>NYERI</td>\n",
       "      <td>NYERI OTHAYA</td>\n",
       "      <td>NGURA BRIDGE</td>\n",
       "      <td>THE VEHICLE LOST CONTROL AND PLUGGED INTO THE ...</td>\n",
       "      <td>M</td>\n",
       "      <td>A</td>\n",
       "      <td>NaN</td>\n",
       "      <td>PASSENGER</td>\n",
       "      <td>1</td>\n",
       "      <td>2016-04-02</td>\n",
       "    </tr>\n",
       "  </tbody>\n",
       "</table>\n",
       "</div>"
      ],
      "text/plain": [
       "    TIME 24 HOURS BASE/SUB BASE        COUNTY                ROAD  \\\n",
       "121          1530        KAYOLE       NAIROBI            KANGUNDO   \n",
       "163           815         BOMET         BOMET         BOMET NAROK   \n",
       "164           NaN           VOI  TAITA TAVETA         MWATATE VOI   \n",
       "165           NaN           VOI  TAITA TAVETA         MWATATE VOI   \n",
       "169          2100        SALAMA       MAKUENI     NAIROBI MOMBASA   \n",
       "189          1210      HOMA BAY      HOMA BAY  RODI KOPANY RANGWE   \n",
       "193           800      EMBAKASI       NAIROBI             MOMBASA   \n",
       "326          2205       NANYUKI           NaN             KINAMBA   \n",
       "328          2142      KINANGOP           NaN    NJAMBINI OLKALAO   \n",
       "362           800         NYERI         NYERI        NYERI OTHAYA   \n",
       "\n",
       "            PLACE                             BRIEF ACCIDENT DETAILS  \\\n",
       "121        KAMULU                THE VEHICLE KNOCKED DOWN THE VICTIM   \n",
       "163         MULOT                                  HEAD ON COLLISION   \n",
       "164     CKAHARELI                                  HEAD ON COLLISION   \n",
       "165     CKAHARELI                                  HEAD ON COLLISION   \n",
       "169     KIONGWANI                                                NaN   \n",
       "189         TAUSI  THE VEHICLE KNOCKED DOWN THE VICTIM WHILE CROS...   \n",
       "193       CABANAS               THE LORRY KNOCKED DOWN THE M/CYCLIST   \n",
       "326        NGARUA           THE VEHICLE OVERTURNED KILLING 6 VICTIMS   \n",
       "328      KAMAGUTA                    THE VEHICLE HIT A PEDAL CYCLIST   \n",
       "362  NGURA BRIDGE  THE VEHICLE LOST CONTROL AND PLUGGED INTO THE ...   \n",
       "\n",
       "       GENDER AGE  CAUSE CODE       VICTIM  NO. Date DD/MM/YYYY  \n",
       "121         F   A         NaN   PEDESTRIAN    1      2016-06-07  \n",
       "163         M   A         NaN       DRIVER    1      2016-04-30  \n",
       "164         M   A         8.0    M/CYCLIST    1      2016-04-30  \n",
       "165         M   A         8.0   P/PASENGER    1      2016-04-30  \n",
       "169         M   A         NaN       DRIVER    1      2016-04-30  \n",
       "189         F  11         NaN   PEDESTRIAN    1      2016-04-26  \n",
       "193         M   A         NaN  P/PASSENGER    1      2016-04-26  \n",
       "326  4F & INF   A        26.0    PASSENGER    6      2016-04-08  \n",
       "328         M  33        98.0    P/CYCLIST    1      2016-04-08  \n",
       "362         M   A         NaN    PASSENGER    1      2016-04-02  "
      ]
     },
     "execution_count": 11,
     "metadata": {},
     "output_type": "execute_result"
    }
   ],
   "source": [
    "# Since the number of null values is very small we can drop them.\n",
    "# But we can also try and fill them. Here is how we can approach it.\n",
    "# First we need to check the rows with null values\n",
    "df[df.isnull().any(axis=1)]"
   ]
  },
  {
   "attachments": {},
   "cell_type": "markdown",
   "metadata": {},
   "source": [
    "### Inferences\n",
    "The most important to consider before filling out any information is domain knowledge. In this case, I have no domain knowledge of the data, but there are some things we can tell.\n",
    "* We know the counties that are in Kenya\n",
    "* We can see Cause code has more missing values than the other columns. So i think cause code means the reason for the accident. So we can fill the missing values with the most common cause code. This is why domain knowledge is important. You need to know what the data means.\n",
    "* See at 326 we have an age column with a value(4F & INF). We shall need to clean this up. So which means there might be some other noise in the data. We can use regex to clean this up.\n"
   ]
  },
  {
   "cell_type": "code",
   "execution_count": 12,
   "metadata": {},
   "outputs": [
    {
     "data": {
      "text/plain": [
       "0    98.0\n",
       "Name: CAUSE CODE, dtype: float64"
      ]
     },
     "execution_count": 12,
     "metadata": {},
     "output_type": "execute_result"
    }
   ],
   "source": [
    "# So lets start to deal with the null values\n",
    "# As i noted, cause code has more null values than the other columns\n",
    "# Lets use mode to check the most common cause code\n",
    "df['CAUSE CODE'].mode()"
   ]
  },
  {
   "cell_type": "code",
   "execution_count": 13,
   "metadata": {},
   "outputs": [
    {
     "data": {
      "text/plain": [
       "TIME 24 HOURS             2\n",
       "BASE/SUB BASE             0\n",
       "COUNTY                    2\n",
       "ROAD                      0\n",
       "PLACE                     0\n",
       "BRIEF ACCIDENT DETAILS    1\n",
       "GENDER                    0\n",
       "AGE                       0\n",
       "CAUSE CODE                0\n",
       "VICTIM                    0\n",
       "NO.                       0\n",
       "Date DD/MM/YYYY           0\n",
       "dtype: int64"
      ]
     },
     "execution_count": 13,
     "metadata": {},
     "output_type": "execute_result"
    }
   ],
   "source": [
    "# 98.0 is the most common cause code. So we can fill the null values with 98.0 because we are assuming that the null values are the same as the most common cause code\n",
    "#df['CAUSE CODE'].fillna(98.0, inplace=True)\n",
    "# Most will say the above code is a bad practice of programming. So lets try another way\n",
    "df['CAUSE CODE'] = df['CAUSE CODE'].fillna(98.0)\n",
    "df.isnull().sum()"
   ]
  },
  {
   "attachments": {},
   "cell_type": "markdown",
   "metadata": {},
   "source": [
    "Remember we had some county information missing for Nanyuki and Kinangop. A quick google search yielded that \n",
    "Nanyuki is a town located in Laikipia County, Kenya.\n",
    "Kinangop is a town located in Nyandarua County, Kenya."
   ]
  },
  {
   "cell_type": "code",
   "execution_count": 18,
   "metadata": {},
   "outputs": [
    {
     "data": {
      "text/plain": [
       "TIME 24 HOURS             2\n",
       "BASE/SUB BASE             0\n",
       "COUNTY                    0\n",
       "ROAD                      0\n",
       "PLACE                     0\n",
       "BRIEF ACCIDENT DETAILS    1\n",
       "GENDER                    0\n",
       "AGE                       0\n",
       "CAUSE CODE                0\n",
       "VICTIM                    0\n",
       "NO.                       0\n",
       "Date DD/MM/YYYY           0\n",
       "dtype: int64"
      ]
     },
     "execution_count": 18,
     "metadata": {},
     "output_type": "execute_result"
    }
   ],
   "source": [
    "# So we can use this to fill the missing county information. To do this, we will consider the two columns SUB BASE and COUNTY\n",
    "# Where BASE/SUB BASE is Nanyuki, we will fill the missing county information with Laikipia County\n",
    "# Where BASE/SUB BASE is Kinangop, we will fill the missing county information with Nyandarua County\n",
    "df.loc[df['BASE/SUB BASE'] == \"NANYUKI\", 'COUNTY'] = \"LAIKIPIA\"\n",
    "df.loc[df['BASE/SUB BASE'] == \"KINANGOP\", 'COUNTY'] = \"NYANDARUA\"\n",
    "df.isnull().sum()"
   ]
  },
  {
   "cell_type": "code",
   "execution_count": 19,
   "metadata": {},
   "outputs": [
    {
     "data": {
      "text/plain": [
       "TIME 24 HOURS             0\n",
       "BASE/SUB BASE             0\n",
       "COUNTY                    0\n",
       "ROAD                      0\n",
       "PLACE                     0\n",
       "BRIEF ACCIDENT DETAILS    0\n",
       "GENDER                    0\n",
       "AGE                       0\n",
       "CAUSE CODE                0\n",
       "VICTIM                    0\n",
       "NO.                       0\n",
       "Date DD/MM/YYYY           0\n",
       "dtype: int64"
      ]
     },
     "execution_count": 19,
     "metadata": {},
     "output_type": "execute_result"
    }
   ],
   "source": [
    "# Now we can drop the rest of the null values\n",
    "df = df.dropna()\n",
    "df.isnull().sum()"
   ]
  },
  {
   "cell_type": "code",
   "execution_count": null,
   "metadata": {},
   "outputs": [],
   "source": []
  },
  {
   "cell_type": "code",
   "execution_count": null,
   "metadata": {},
   "outputs": [],
   "source": []
  },
  {
   "attachments": {},
   "cell_type": "markdown",
   "metadata": {},
   "source": [
    "# EDA\n",
    "First I'd like to note that the data is pretty small. About 375 rows. To make our analysis more robust, we can convert the data to a time series and then do some analysis on the time series."
   ]
  },
  {
   "cell_type": "code",
   "execution_count": 22,
   "metadata": {},
   "outputs": [
    {
     "data": {
      "text/html": [
       "<div>\n",
       "<style scoped>\n",
       "    .dataframe tbody tr th:only-of-type {\n",
       "        vertical-align: middle;\n",
       "    }\n",
       "\n",
       "    .dataframe tbody tr th {\n",
       "        vertical-align: top;\n",
       "    }\n",
       "\n",
       "    .dataframe thead th {\n",
       "        text-align: right;\n",
       "    }\n",
       "</style>\n",
       "<table border=\"1\" class=\"dataframe\">\n",
       "  <thead>\n",
       "    <tr style=\"text-align: right;\">\n",
       "      <th></th>\n",
       "      <th>TIME 24 HOURS</th>\n",
       "      <th>BASE/SUB BASE</th>\n",
       "      <th>COUNTY</th>\n",
       "      <th>ROAD</th>\n",
       "      <th>PLACE</th>\n",
       "      <th>BRIEF ACCIDENT DETAILS</th>\n",
       "      <th>GENDER</th>\n",
       "      <th>AGE</th>\n",
       "      <th>CAUSE CODE</th>\n",
       "      <th>VICTIM</th>\n",
       "      <th>NO.</th>\n",
       "      <th>Date DD/MM/YYYY</th>\n",
       "    </tr>\n",
       "  </thead>\n",
       "  <tbody>\n",
       "    <tr>\n",
       "      <th>90</th>\n",
       "      <td>1100</td>\n",
       "      <td>KITALE</td>\n",
       "      <td>TRANS NZOIA</td>\n",
       "      <td>KITALE-ELDORET</td>\n",
       "      <td>KEPHIS</td>\n",
       "      <td>HEAD ON COLLISION</td>\n",
       "      <td>F</td>\n",
       "      <td>J</td>\n",
       "      <td>26.0</td>\n",
       "      <td>PASSENGER</td>\n",
       "      <td>1</td>\n",
       "      <td>2016-06-11</td>\n",
       "    </tr>\n",
       "    <tr>\n",
       "      <th>176</th>\n",
       "      <td>815</td>\n",
       "      <td>KILIFI</td>\n",
       "      <td>KILIFI</td>\n",
       "      <td>KILIFI VITENGENI</td>\n",
       "      <td>EZAMOYO AREA</td>\n",
       "      <td>THE KMDG 044E RAMMED INTO THE VEHICLE AND THEN...</td>\n",
       "      <td>M</td>\n",
       "      <td>23 &amp; 27</td>\n",
       "      <td>10.0</td>\n",
       "      <td>M/CYCLIST</td>\n",
       "      <td>2</td>\n",
       "      <td>2016-04-29</td>\n",
       "    </tr>\n",
       "    <tr>\n",
       "      <th>115</th>\n",
       "      <td>2200</td>\n",
       "      <td>DIANI</td>\n",
       "      <td>KWALE</td>\n",
       "      <td>LUNGALUNGA VANGA</td>\n",
       "      <td>LUNGALUNGA SHOPPING CENTRE</td>\n",
       "      <td>THE KMDK HIT THE REAR OF THE OTHER CYCLE</td>\n",
       "      <td>M</td>\n",
       "      <td>17</td>\n",
       "      <td>10.0</td>\n",
       "      <td>P/PASSENGER</td>\n",
       "      <td>1</td>\n",
       "      <td>2016-06-08</td>\n",
       "    </tr>\n",
       "    <tr>\n",
       "      <th>263</th>\n",
       "      <td>1300</td>\n",
       "      <td>NAROK</td>\n",
       "      <td>NAROK</td>\n",
       "      <td>MULOT NAROK</td>\n",
       "      <td>KUTETE</td>\n",
       "      <td>THE VEHICLE KNOCKED DOWN THE VICTIM WHILE CROS...</td>\n",
       "      <td>F</td>\n",
       "      <td>12</td>\n",
       "      <td>60.0</td>\n",
       "      <td>PEDESTRIAN</td>\n",
       "      <td>1</td>\n",
       "      <td>2016-04-15</td>\n",
       "    </tr>\n",
       "    <tr>\n",
       "      <th>217</th>\n",
       "      <td>2030</td>\n",
       "      <td>KIKUYU</td>\n",
       "      <td>KIAMBU</td>\n",
       "      <td>SOUTHERN BY PASS</td>\n",
       "      <td>NEAR KIKUYU FLY OVER</td>\n",
       "      <td>THE VEHICLE LOST CONTROL VEERED OFF THE ROAD A...</td>\n",
       "      <td>M</td>\n",
       "      <td>27</td>\n",
       "      <td>26.0</td>\n",
       "      <td>PEDESTRIAN</td>\n",
       "      <td>1</td>\n",
       "      <td>2016-04-22</td>\n",
       "    </tr>\n",
       "    <tr>\n",
       "      <th>14</th>\n",
       "      <td>1150</td>\n",
       "      <td>NAKURU</td>\n",
       "      <td>NAKURU</td>\n",
       "      <td>NAKURU NAIROBI</td>\n",
       "      <td>NEAR TUSKYS SUPERMARKET</td>\n",
       "      <td>THE VEHICLE KNOCKED DOWN THE M/CYCLIST</td>\n",
       "      <td>M</td>\n",
       "      <td>35</td>\n",
       "      <td>57.0</td>\n",
       "      <td>M/CYCLIST</td>\n",
       "      <td>1</td>\n",
       "      <td>2016-06-23</td>\n",
       "    </tr>\n",
       "    <tr>\n",
       "      <th>214</th>\n",
       "      <td>1230</td>\n",
       "      <td>NAKURU</td>\n",
       "      <td>MAKURU</td>\n",
       "      <td>NAKURU NAIROBI</td>\n",
       "      <td>BAHATI JUNCTION</td>\n",
       "      <td>THE VEHICLE KNOCKED DOWN THE VICTIM WHILE CROS...</td>\n",
       "      <td>M</td>\n",
       "      <td>28</td>\n",
       "      <td>66.0</td>\n",
       "      <td>PEDESTRIAN</td>\n",
       "      <td>1</td>\n",
       "      <td>2016-04-22</td>\n",
       "    </tr>\n",
       "    <tr>\n",
       "      <th>67</th>\n",
       "      <td>1800</td>\n",
       "      <td>DTEO LANGATA</td>\n",
       "      <td>NAIROBI</td>\n",
       "      <td>SOUTHERN BY PASS</td>\n",
       "      <td>CHINESE CONSTRUCTION SITE</td>\n",
       "      <td>THE BUS KNOCKED DOWN THE VICTIM WHO WAS CROSSI...</td>\n",
       "      <td>M</td>\n",
       "      <td>30</td>\n",
       "      <td>60.0</td>\n",
       "      <td>PEDESTRIAN</td>\n",
       "      <td>1</td>\n",
       "      <td>2016-06-15</td>\n",
       "    </tr>\n",
       "    <tr>\n",
       "      <th>91</th>\n",
       "      <td>1300</td>\n",
       "      <td>CHANGAMWE</td>\n",
       "      <td>MOMBASA</td>\n",
       "      <td>MOMBASA-NAIROBI</td>\n",
       "      <td>BANGLA AREA</td>\n",
       "      <td>THE VEHICLE KNOCKED DOWN A PEDESTRIAN WHO WAS ...</td>\n",
       "      <td>M</td>\n",
       "      <td>36</td>\n",
       "      <td>10.0</td>\n",
       "      <td>PEDESTRIAN</td>\n",
       "      <td>1</td>\n",
       "      <td>2016-06-11</td>\n",
       "    </tr>\n",
       "    <tr>\n",
       "      <th>179</th>\n",
       "      <td>1900</td>\n",
       "      <td>KEROKA</td>\n",
       "      <td>NYAMIRA</td>\n",
       "      <td>KEROKA SOTIK</td>\n",
       "      <td>KISAURI AREA</td>\n",
       "      <td>THE CYCLE HIT THE VEHICLE</td>\n",
       "      <td>M</td>\n",
       "      <td>28</td>\n",
       "      <td>52.0</td>\n",
       "      <td>M/CYCLIST</td>\n",
       "      <td>1</td>\n",
       "      <td>2016-04-29</td>\n",
       "    </tr>\n",
       "  </tbody>\n",
       "</table>\n",
       "</div>"
      ],
      "text/plain": [
       "    TIME 24 HOURS BASE/SUB BASE       COUNTY              ROAD  \\\n",
       "90           1100        KITALE  TRANS NZOIA    KITALE-ELDORET   \n",
       "176           815        KILIFI       KILIFI  KILIFI VITENGENI   \n",
       "115          2200         DIANI        KWALE  LUNGALUNGA VANGA   \n",
       "263          1300         NAROK        NAROK       MULOT NAROK   \n",
       "217          2030        KIKUYU       KIAMBU  SOUTHERN BY PASS   \n",
       "14           1150        NAKURU       NAKURU    NAKURU NAIROBI   \n",
       "214          1230        NAKURU       MAKURU    NAKURU NAIROBI   \n",
       "67           1800  DTEO LANGATA      NAIROBI  SOUTHERN BY PASS   \n",
       "91           1300     CHANGAMWE      MOMBASA   MOMBASA-NAIROBI   \n",
       "179          1900        KEROKA      NYAMIRA      KEROKA SOTIK   \n",
       "\n",
       "                          PLACE  \\\n",
       "90                       KEPHIS   \n",
       "176                EZAMOYO AREA   \n",
       "115  LUNGALUNGA SHOPPING CENTRE   \n",
       "263                      KUTETE   \n",
       "217        NEAR KIKUYU FLY OVER   \n",
       "14      NEAR TUSKYS SUPERMARKET   \n",
       "214             BAHATI JUNCTION   \n",
       "67    CHINESE CONSTRUCTION SITE   \n",
       "91                  BANGLA AREA   \n",
       "179                KISAURI AREA   \n",
       "\n",
       "                                BRIEF ACCIDENT DETAILS GENDER      AGE  \\\n",
       "90                                   HEAD ON COLLISION      F        J   \n",
       "176  THE KMDG 044E RAMMED INTO THE VEHICLE AND THEN...      M  23 & 27   \n",
       "115           THE KMDK HIT THE REAR OF THE OTHER CYCLE      M       17   \n",
       "263  THE VEHICLE KNOCKED DOWN THE VICTIM WHILE CROS...      F       12   \n",
       "217  THE VEHICLE LOST CONTROL VEERED OFF THE ROAD A...      M       27   \n",
       "14              THE VEHICLE KNOCKED DOWN THE M/CYCLIST      M       35   \n",
       "214  THE VEHICLE KNOCKED DOWN THE VICTIM WHILE CROS...      M       28   \n",
       "67   THE BUS KNOCKED DOWN THE VICTIM WHO WAS CROSSI...      M       30   \n",
       "91   THE VEHICLE KNOCKED DOWN A PEDESTRIAN WHO WAS ...      M       36   \n",
       "179                          THE CYCLE HIT THE VEHICLE      M       28   \n",
       "\n",
       "     CAUSE CODE       VICTIM  NO. Date DD/MM/YYYY  \n",
       "90         26.0    PASSENGER    1      2016-06-11  \n",
       "176        10.0    M/CYCLIST    2      2016-04-29  \n",
       "115        10.0  P/PASSENGER    1      2016-06-08  \n",
       "263        60.0   PEDESTRIAN    1      2016-04-15  \n",
       "217        26.0   PEDESTRIAN    1      2016-04-22  \n",
       "14         57.0    M/CYCLIST    1      2016-06-23  \n",
       "214        66.0   PEDESTRIAN    1      2016-04-22  \n",
       "67         60.0   PEDESTRIAN    1      2016-06-15  \n",
       "91         10.0   PEDESTRIAN    1      2016-06-11  \n",
       "179        52.0    M/CYCLIST    1      2016-04-29  "
      ]
     },
     "execution_count": 22,
     "metadata": {},
     "output_type": "execute_result"
    }
   ],
   "source": [
    "df.sample(10)"
   ]
  },
  {
   "cell_type": "code",
   "execution_count": 67,
   "metadata": {},
   "outputs": [],
   "source": [
    "#df['TIME 24 HOURS'] = pd.to_datetime(df['TIME 24 HOURS'], infer_datetime_format=True)"
   ]
  },
  {
   "cell_type": "code",
   "execution_count": 25,
   "metadata": {},
   "outputs": [],
   "source": [
    "# SO we need to convert the date column to datetime\n",
    "df['Date DD/MM/YYYY'] = pd.to_datetime(df['Date DD/MM/YYYY'], infer_datetime_format = True)\n",
    "\n"
   ]
  },
  {
   "cell_type": "code",
   "execution_count": 27,
   "metadata": {},
   "outputs": [
    {
     "data": {
      "text/plain": [
       "TIME 24 HOURS                     object\n",
       "BASE/SUB BASE                     object\n",
       "COUNTY                            object\n",
       "ROAD                              object\n",
       "PLACE                             object\n",
       "BRIEF ACCIDENT DETAILS            object\n",
       "GENDER                            object\n",
       "AGE                               object\n",
       "CAUSE CODE                       float64\n",
       "VICTIM                            object\n",
       "NO.                                int64\n",
       "Date DD/MM/YYYY           datetime64[ns]\n",
       "dtype: object"
      ]
     },
     "execution_count": 27,
     "metadata": {},
     "output_type": "execute_result"
    }
   ],
   "source": [
    "# check the dtypes\n",
    "df.dtypes"
   ]
  },
  {
   "attachments": {},
   "cell_type": "markdown",
   "metadata": {},
   "source": [
    "_Converting the date column to a datetime type in pandas allows you to perform a wide range of time-based operations and analyses on your data. Here are a few examples of what you can do with a datetime column:_\n",
    "\n",
    "* Resampling: You can use the resample() method to aggregate your data by different time periods, such as days, weeks, months, or years. For example, you can use this to calculate the total number of accidents per month or the average number of accidents per week.\n",
    "\n",
    "* Time-based indexing: You can use the datetime column as the index of your dataframe, which makes it easy to perform time-based filtering and slicing. For example, you can select all the rows that correspond to a specific year or month.\n",
    "\n",
    "* Time series analysis: With a datetime column, you can perform time series analysis on your data. This can include decomposing time series data into trend, seasonality, and residuals.\n",
    "\n",
    "* Time-based plotting: You can use the datetime column to create time-based plots, such as line charts or bar charts that show how your data changes over time.\n",
    "\n",
    "* Time-based groupby: You can group your data by time-based attributes such as day, month, and year and perform aggregate functions such as mean, median, and sum on the grouped data.\n",
    "\n",
    "* Time-based filtering: You can filter your data based on time-based attributes such as day, month, and year."
   ]
  },
  {
   "cell_type": "code",
   "execution_count": 28,
   "metadata": {},
   "outputs": [
    {
     "data": {
      "text/html": [
       "<div>\n",
       "<style scoped>\n",
       "    .dataframe tbody tr th:only-of-type {\n",
       "        vertical-align: middle;\n",
       "    }\n",
       "\n",
       "    .dataframe tbody tr th {\n",
       "        vertical-align: top;\n",
       "    }\n",
       "\n",
       "    .dataframe thead th {\n",
       "        text-align: right;\n",
       "    }\n",
       "</style>\n",
       "<table border=\"1\" class=\"dataframe\">\n",
       "  <thead>\n",
       "    <tr style=\"text-align: right;\">\n",
       "      <th></th>\n",
       "      <th>TIME 24 HOURS</th>\n",
       "      <th>BASE/SUB BASE</th>\n",
       "      <th>COUNTY</th>\n",
       "      <th>ROAD</th>\n",
       "      <th>PLACE</th>\n",
       "      <th>BRIEF ACCIDENT DETAILS</th>\n",
       "      <th>GENDER</th>\n",
       "      <th>AGE</th>\n",
       "      <th>CAUSE CODE</th>\n",
       "      <th>VICTIM</th>\n",
       "      <th>NO.</th>\n",
       "    </tr>\n",
       "    <tr>\n",
       "      <th>Date DD/MM/YYYY</th>\n",
       "      <th></th>\n",
       "      <th></th>\n",
       "      <th></th>\n",
       "      <th></th>\n",
       "      <th></th>\n",
       "      <th></th>\n",
       "      <th></th>\n",
       "      <th></th>\n",
       "      <th></th>\n",
       "      <th></th>\n",
       "      <th></th>\n",
       "    </tr>\n",
       "  </thead>\n",
       "  <tbody>\n",
       "    <tr>\n",
       "      <th>2016-06-25</th>\n",
       "      <td>630</td>\n",
       "      <td>KITUI</td>\n",
       "      <td>MAKUENI</td>\n",
       "      <td>KITUI-ITHOKWE</td>\n",
       "      <td>KITUI SCHOOL</td>\n",
       "      <td>HEAD ON COLLISION</td>\n",
       "      <td>M</td>\n",
       "      <td>26</td>\n",
       "      <td>7.0</td>\n",
       "      <td>M/CYCLIST</td>\n",
       "      <td>1</td>\n",
       "    </tr>\n",
       "    <tr>\n",
       "      <th>2016-06-25</th>\n",
       "      <td>830</td>\n",
       "      <td>VOI</td>\n",
       "      <td>TAITA TAVETA</td>\n",
       "      <td>MOMBASA-NAIROBI</td>\n",
       "      <td>IKANGA</td>\n",
       "      <td>HEAD ON COLLISION</td>\n",
       "      <td>M</td>\n",
       "      <td>28</td>\n",
       "      <td>25.0</td>\n",
       "      <td>M/CYCLIST</td>\n",
       "      <td>1</td>\n",
       "    </tr>\n",
       "    <tr>\n",
       "      <th>2016-06-25</th>\n",
       "      <td>1330</td>\n",
       "      <td>MARIAKANI</td>\n",
       "      <td>KILIFI</td>\n",
       "      <td>MOMBASA-NAIROBI</td>\n",
       "      <td>KATOLANI</td>\n",
       "      <td>THE UNKNOWN M/V HIT THE MOTOR CYCLE</td>\n",
       "      <td>M</td>\n",
       "      <td>A &amp; J</td>\n",
       "      <td>98.0</td>\n",
       "      <td>M/CYCLIST</td>\n",
       "      <td>1</td>\n",
       "    </tr>\n",
       "    <tr>\n",
       "      <th>2016-06-25</th>\n",
       "      <td>2100</td>\n",
       "      <td>ONGATA RONGAI</td>\n",
       "      <td>NAKURU</td>\n",
       "      <td>NAKURU-NAIROBI</td>\n",
       "      <td>MAASAI LODGE</td>\n",
       "      <td>THE VEHICLE KNOCKED DOWN A PEDESTRIAN WHO WAS ...</td>\n",
       "      <td>M</td>\n",
       "      <td>65</td>\n",
       "      <td>29.0</td>\n",
       "      <td>PEDESTRIAN</td>\n",
       "      <td>1</td>\n",
       "    </tr>\n",
       "    <tr>\n",
       "      <th>2016-06-25</th>\n",
       "      <td>1900</td>\n",
       "      <td>MATUU</td>\n",
       "      <td>MACHAKOS</td>\n",
       "      <td>MATUU-MWINGI</td>\n",
       "      <td>KIVANDINI</td>\n",
       "      <td>THE VEHICLE OVERTOOK A M/CYCLE AND LOST CONTRO...</td>\n",
       "      <td>M</td>\n",
       "      <td>A</td>\n",
       "      <td>10.0</td>\n",
       "      <td>PASSENGER</td>\n",
       "      <td>1</td>\n",
       "    </tr>\n",
       "  </tbody>\n",
       "</table>\n",
       "</div>"
      ],
      "text/plain": [
       "                TIME 24 HOURS  BASE/SUB BASE        COUNTY             ROAD  \\\n",
       "Date DD/MM/YYYY                                                               \n",
       "2016-06-25                630          KITUI       MAKUENI    KITUI-ITHOKWE   \n",
       "2016-06-25                830            VOI  TAITA TAVETA  MOMBASA-NAIROBI   \n",
       "2016-06-25               1330      MARIAKANI        KILIFI  MOMBASA-NAIROBI   \n",
       "2016-06-25               2100  ONGATA RONGAI        NAKURU   NAKURU-NAIROBI   \n",
       "2016-06-25               1900          MATUU      MACHAKOS     MATUU-MWINGI   \n",
       "\n",
       "                        PLACE  \\\n",
       "Date DD/MM/YYYY                 \n",
       "2016-06-25       KITUI SCHOOL   \n",
       "2016-06-25             IKANGA   \n",
       "2016-06-25           KATOLANI   \n",
       "2016-06-25       MAASAI LODGE   \n",
       "2016-06-25          KIVANDINI   \n",
       "\n",
       "                                            BRIEF ACCIDENT DETAILS GENDER  \\\n",
       "Date DD/MM/YYYY                                                             \n",
       "2016-06-25                                       HEAD ON COLLISION      M   \n",
       "2016-06-25                                       HEAD ON COLLISION      M   \n",
       "2016-06-25                     THE UNKNOWN M/V HIT THE MOTOR CYCLE      M   \n",
       "2016-06-25       THE VEHICLE KNOCKED DOWN A PEDESTRIAN WHO WAS ...      M   \n",
       "2016-06-25       THE VEHICLE OVERTOOK A M/CYCLE AND LOST CONTRO...      M   \n",
       "\n",
       "                   AGE  CAUSE CODE      VICTIM  NO.  \n",
       "Date DD/MM/YYYY                                      \n",
       "2016-06-25          26         7.0   M/CYCLIST    1  \n",
       "2016-06-25          28        25.0   M/CYCLIST    1  \n",
       "2016-06-25       A & J        98.0   M/CYCLIST    1  \n",
       "2016-06-25          65        29.0  PEDESTRIAN    1  \n",
       "2016-06-25           A        10.0   PASSENGER    1  "
      ]
     },
     "execution_count": 28,
     "metadata": {},
     "output_type": "execute_result"
    }
   ],
   "source": [
    "# Now we can start using various time series methods\n",
    "# Lets make the date column the index,which makes it easy to perform time-based filtering and slicing.\n",
    "df.set_index('Date DD/MM/YYYY', inplace=True)\n",
    "df.head()"
   ]
  },
  {
   "attachments": {},
   "cell_type": "markdown",
   "metadata": {},
   "source": [
    "Resampling: You can use the resample() method to aggregate your data by different time periods, such as days, weeks, months, or years."
   ]
  },
  {
   "cell_type": "code",
   "execution_count": 33,
   "metadata": {},
   "outputs": [
    {
     "name": "stderr",
     "output_type": "stream",
     "text": [
      "C:\\Users\\JINEF\\AppData\\Local\\Temp\\ipykernel_9792\\3881588739.py:2: FutureWarning:\n",
      "\n",
      "The default value of numeric_only in DataFrameGroupBy.sum is deprecated. In a future version, numeric_only will default to False. Either specify numeric_only or select only columns which should be valid for the function.\n",
      "\n"
     ]
    },
    {
     "data": {
      "text/html": [
       "<div>\n",
       "<style scoped>\n",
       "    .dataframe tbody tr th:only-of-type {\n",
       "        vertical-align: middle;\n",
       "    }\n",
       "\n",
       "    .dataframe tbody tr th {\n",
       "        vertical-align: top;\n",
       "    }\n",
       "\n",
       "    .dataframe thead th {\n",
       "        text-align: right;\n",
       "    }\n",
       "</style>\n",
       "<table border=\"1\" class=\"dataframe\">\n",
       "  <thead>\n",
       "    <tr style=\"text-align: right;\">\n",
       "      <th></th>\n",
       "      <th>CAUSE CODE</th>\n",
       "      <th>NO.</th>\n",
       "    </tr>\n",
       "    <tr>\n",
       "      <th>Date DD/MM/YYYY</th>\n",
       "      <th></th>\n",
       "      <th></th>\n",
       "    </tr>\n",
       "  </thead>\n",
       "  <tbody>\n",
       "    <tr>\n",
       "      <th>2016-04-30</th>\n",
       "      <td>10282.0</td>\n",
       "      <td>235</td>\n",
       "    </tr>\n",
       "    <tr>\n",
       "      <th>2016-05-31</th>\n",
       "      <td>0.0</td>\n",
       "      <td>0</td>\n",
       "    </tr>\n",
       "    <tr>\n",
       "      <th>2016-06-30</th>\n",
       "      <td>7836.0</td>\n",
       "      <td>195</td>\n",
       "    </tr>\n",
       "  </tbody>\n",
       "</table>\n",
       "</div>"
      ],
      "text/plain": [
       "                 CAUSE CODE  NO.\n",
       "Date DD/MM/YYYY                 \n",
       "2016-04-30          10282.0  235\n",
       "2016-05-31              0.0    0\n",
       "2016-06-30           7836.0  195"
      ]
     },
     "execution_count": 33,
     "metadata": {},
     "output_type": "execute_result"
    }
   ],
   "source": [
    "# We are dealing with only one year of data. So we can use resample to get the monthly data\n",
    "df.resample('M').sum()"
   ]
  },
  {
   "cell_type": "code",
   "execution_count": 34,
   "metadata": {},
   "outputs": [
    {
     "name": "stderr",
     "output_type": "stream",
     "text": [
      "C:\\Users\\JINEF\\AppData\\Local\\Temp\\ipykernel_9792\\703939550.py:2: FutureWarning:\n",
      "\n",
      "The default value of numeric_only in DataFrameGroupBy.sum is deprecated. In a future version, numeric_only will default to False. Either specify numeric_only or select only columns which should be valid for the function.\n",
      "\n"
     ]
    },
    {
     "data": {
      "text/html": [
       "<div>\n",
       "<style scoped>\n",
       "    .dataframe tbody tr th:only-of-type {\n",
       "        vertical-align: middle;\n",
       "    }\n",
       "\n",
       "    .dataframe tbody tr th {\n",
       "        vertical-align: top;\n",
       "    }\n",
       "\n",
       "    .dataframe thead th {\n",
       "        text-align: right;\n",
       "    }\n",
       "</style>\n",
       "<table border=\"1\" class=\"dataframe\">\n",
       "  <thead>\n",
       "    <tr style=\"text-align: right;\">\n",
       "      <th></th>\n",
       "      <th>CAUSE CODE</th>\n",
       "      <th>NO.</th>\n",
       "    </tr>\n",
       "    <tr>\n",
       "      <th>Date DD/MM/YYYY</th>\n",
       "      <th></th>\n",
       "      <th></th>\n",
       "    </tr>\n",
       "  </thead>\n",
       "  <tbody>\n",
       "    <tr>\n",
       "      <th>2016-04-03</th>\n",
       "      <td>1009.0</td>\n",
       "      <td>26</td>\n",
       "    </tr>\n",
       "    <tr>\n",
       "      <th>2016-04-10</th>\n",
       "      <td>2730.0</td>\n",
       "      <td>69</td>\n",
       "    </tr>\n",
       "    <tr>\n",
       "      <th>2016-04-17</th>\n",
       "      <td>2528.0</td>\n",
       "      <td>54</td>\n",
       "    </tr>\n",
       "    <tr>\n",
       "      <th>2016-04-24</th>\n",
       "      <td>1915.0</td>\n",
       "      <td>53</td>\n",
       "    </tr>\n",
       "    <tr>\n",
       "      <th>2016-05-01</th>\n",
       "      <td>2100.0</td>\n",
       "      <td>33</td>\n",
       "    </tr>\n",
       "    <tr>\n",
       "      <th>2016-05-08</th>\n",
       "      <td>0.0</td>\n",
       "      <td>0</td>\n",
       "    </tr>\n",
       "    <tr>\n",
       "      <th>2016-05-15</th>\n",
       "      <td>0.0</td>\n",
       "      <td>0</td>\n",
       "    </tr>\n",
       "    <tr>\n",
       "      <th>2016-05-22</th>\n",
       "      <td>0.0</td>\n",
       "      <td>0</td>\n",
       "    </tr>\n",
       "    <tr>\n",
       "      <th>2016-05-29</th>\n",
       "      <td>0.0</td>\n",
       "      <td>0</td>\n",
       "    </tr>\n",
       "    <tr>\n",
       "      <th>2016-06-05</th>\n",
       "      <td>1869.0</td>\n",
       "      <td>33</td>\n",
       "    </tr>\n",
       "    <tr>\n",
       "      <th>2016-06-12</th>\n",
       "      <td>2309.0</td>\n",
       "      <td>64</td>\n",
       "    </tr>\n",
       "    <tr>\n",
       "      <th>2016-06-19</th>\n",
       "      <td>2051.0</td>\n",
       "      <td>53</td>\n",
       "    </tr>\n",
       "    <tr>\n",
       "      <th>2016-06-26</th>\n",
       "      <td>1607.0</td>\n",
       "      <td>45</td>\n",
       "    </tr>\n",
       "  </tbody>\n",
       "</table>\n",
       "</div>"
      ],
      "text/plain": [
       "                 CAUSE CODE  NO.\n",
       "Date DD/MM/YYYY                 \n",
       "2016-04-03           1009.0   26\n",
       "2016-04-10           2730.0   69\n",
       "2016-04-17           2528.0   54\n",
       "2016-04-24           1915.0   53\n",
       "2016-05-01           2100.0   33\n",
       "2016-05-08              0.0    0\n",
       "2016-05-15              0.0    0\n",
       "2016-05-22              0.0    0\n",
       "2016-05-29              0.0    0\n",
       "2016-06-05           1869.0   33\n",
       "2016-06-12           2309.0   64\n",
       "2016-06-19           2051.0   53\n",
       "2016-06-26           1607.0   45"
      ]
     },
     "execution_count": 34,
     "metadata": {},
     "output_type": "execute_result"
    }
   ],
   "source": [
    "# Weekley data\n",
    "df.resample('W').sum()"
   ]
  },
  {
   "cell_type": "code",
   "execution_count": 47,
   "metadata": {},
   "outputs": [
    {
     "data": {
      "image/png": "[encoded data removed]",
      "text/plain": [
       "<Figure size 1500x600 with 1 Axes>"
      ]
     },
     "metadata": {},
     "output_type": "display_data"
    }
   ],
   "source": [
    "# time series analysis\n",
    "df.plot(figsize=(15, 6))\n",
    "plt.show()\n",
    " \n"
   ]
  },
  {
   "cell_type": "code",
   "execution_count": 54,
   "metadata": {},
   "outputs": [
    {
     "data": {
      "application/vnd.plotly.v1+json": {
       "config": {
        "plotlyServerURL": "https://plot.ly"
       },
       "data": [
        {
         "hovertemplate": "Date DD/MM/YYYY=%{x}<br>NO.=%{y}<extra></extra>",
         "legendgroup": "",
         "line": {
          "color": "#636efa",
          "dash": "solid"
         },
         "marker": {
          "symbol": "circle"
         },
         "mode": "lines",
         "name": "",
         "orientation": "v",
         "showlegend": false,
         "type": "scatter",
         "x": [
          "2016-06-25T00:00:00",
          "2016-06-25T00:00:00",
          "2016-06-25T00:00:00",
          "2016-06-25T00:00:00",
          "2016-06-25T00:00:00",
          "2016-06-25T00:00:00",
          "2016-06-25T00:00:00",
          "2016-06-24T00:00:00",
          "2016-06-24T00:00:00",
          "2016-06-24T00:00:00",
          "2016-06-24T00:00:00",
          "2016-06-24T00:00:00",
          "2016-06-24T00:00:00",
          "2016-06-24T00:00:00",
          "2016-06-23T00:00:00",
          "2016-06-23T00:00:00",
          "2016-06-23T00:00:00",
          "2016-06-23T00:00:00",
          "2016-06-23T00:00:00",
          "2016-06-23T00:00:00",
          "2016-06-23T00:00:00",
          "2016-06-22T00:00:00",
          "2016-06-22T00:00:00",
          "2016-06-22T00:00:00",
          "2016-06-22T00:00:00",
          "2016-06-22T00:00:00",
          "2016-06-22T00:00:00",
          "2016-06-21T00:00:00",
          "2016-06-21T00:00:00",
          "2016-06-21T00:00:00",
          "2016-06-21T00:00:00",
          "2016-06-21T00:00:00",
          "2016-06-21T00:00:00",
          "2016-06-20T00:00:00",
          "2016-06-20T00:00:00",
          "2016-06-20T00:00:00",
          "2016-06-20T00:00:00",
          "2016-06-20T00:00:00",
          "2016-06-20T00:00:00",
          "2016-06-20T00:00:00",
          "2016-06-19T00:00:00",
          "2016-06-19T00:00:00",
          "2016-06-19T00:00:00",
          "2016-06-19T00:00:00",
          "2016-06-18T00:00:00",
          "2016-06-18T00:00:00",
          "2016-06-18T00:00:00",
          "2016-06-18T00:00:00",
          "2016-06-18T00:00:00",
          "2016-06-18T00:00:00",
          "2016-06-18T00:00:00",
          "2016-06-18T00:00:00",
          "2016-06-18T00:00:00",
          "2016-06-18T00:00:00",
          "2016-06-18T00:00:00",
          "2016-06-18T00:00:00",
          "2016-06-17T00:00:00",
          "2016-06-17T00:00:00",
          "2016-06-17T00:00:00",
          "2016-06-17T00:00:00",
          "2016-06-17T00:00:00",
          "2016-06-16T00:00:00",
          "2016-06-16T00:00:00",
          "2016-06-16T00:00:00",
          "2016-06-16T00:00:00",
          "2016-06-16T00:00:00",
          "2016-06-15T00:00:00",
          "2016-06-15T00:00:00",
          "2016-06-15T00:00:00",
          "2016-06-15T00:00:00",
          "2016-06-14T00:00:00",
          "2016-06-14T00:00:00",
          "2016-06-14T00:00:00",
          "2016-06-14T00:00:00",
          "2016-06-14T00:00:00",
          "2016-06-14T00:00:00",
          "2016-06-14T00:00:00",
          "2016-06-14T00:00:00",
          "2016-06-13T00:00:00",
          "2016-06-13T00:00:00",
          "2016-06-13T00:00:00",
          "2016-06-13T00:00:00",
          "2016-06-12T00:00:00",
          "2016-06-12T00:00:00",
          "2016-06-12T00:00:00",
          "2016-06-12T00:00:00",
          "2016-06-12T00:00:00",
          "2016-06-12T00:00:00",
          "2016-06-12T00:00:00",
          "2016-06-12T00:00:00",
          "2016-06-11T00:00:00",
          "2016-06-11T00:00:00",
          "2016-06-11T00:00:00",
          "2016-06-11T00:00:00",
          "2016-06-11T00:00:00",
          "2016-06-11T00:00:00",
          "2016-06-11T00:00:00",
          "2016-06-11T00:00:00",
          "2016-06-11T00:00:00",
          "2016-06-10T00:00:00",
          "2016-06-10T00:00:00",
          "2016-06-10T00:00:00",
          "2016-06-10T00:00:00",
          "2016-06-10T00:00:00",
          "2016-06-10T00:00:00",
          "2016-06-10T00:00:00",
          "2016-06-10T00:00:00",
          "2016-06-10T00:00:00",
          "2016-06-09T00:00:00",
          "2016-06-09T00:00:00",
          "2016-06-09T00:00:00",
          "2016-06-09T00:00:00",
          "2016-06-09T00:00:00",
          "2016-06-08T00:00:00",
          "2016-06-08T00:00:00",
          "2016-06-08T00:00:00",
          "2016-06-08T00:00:00",
          "2016-06-08T00:00:00",
          "2016-06-08T00:00:00",
          "2016-06-07T00:00:00",
          "2016-06-07T00:00:00",
          "2016-06-07T00:00:00",
          "2016-06-07T00:00:00",
          "2016-06-07T00:00:00",
          "2016-06-07T00:00:00",
          "2016-06-06T00:00:00",
          "2016-06-06T00:00:00",
          "2016-06-06T00:00:00",
          "2016-06-06T00:00:00",
          "2016-06-06T00:00:00",
          "2016-06-06T00:00:00",
          "2016-06-05T00:00:00",
          "2016-06-05T00:00:00",
          "2016-06-05T00:00:00",
          "2016-06-05T00:00:00",
          "2016-06-05T00:00:00",
          "2016-06-05T00:00:00",
          "2016-06-05T00:00:00",
          "2016-06-05T00:00:00",
          "2016-06-04T00:00:00",
          "2016-06-04T00:00:00",
          "2016-06-04T00:00:00",
          "2016-06-04T00:00:00",
          "2016-06-04T00:00:00",
          "2016-06-04T00:00:00",
          "2016-06-04T00:00:00",
          "2016-06-04T00:00:00",
          "2016-06-04T00:00:00",
          "2016-06-04T00:00:00",
          "2016-06-04T00:00:00",
          "2016-06-02T00:00:00",
          "2016-06-02T00:00:00",
          "2016-06-02T00:00:00",
          "2016-06-02T00:00:00",
          "2016-06-02T00:00:00",
          "2016-06-01T00:00:00",
          "2016-06-01T00:00:00",
          "2016-06-01T00:00:00",
          "2016-06-01T00:00:00",
          "2016-06-01T00:00:00",
          "2016-06-01T00:00:00",
          "2016-06-01T00:00:00",
          "2016-06-01T00:00:00",
          "2016-04-30T00:00:00",
          "2016-04-30T00:00:00",
          "2016-04-30T00:00:00",
          "2016-04-30T00:00:00",
          "2016-04-30T00:00:00",
          "2016-04-30T00:00:00",
          "2016-04-30T00:00:00",
          "2016-04-30T00:00:00",
          "2016-04-30T00:00:00",
          "2016-04-29T00:00:00",
          "2016-04-29T00:00:00",
          "2016-04-29T00:00:00",
          "2016-04-29T00:00:00",
          "2016-04-29T00:00:00",
          "2016-04-29T00:00:00",
          "2016-04-29T00:00:00",
          "2016-04-29T00:00:00",
          "2016-04-29T00:00:00",
          "2016-04-29T00:00:00",
          "2016-04-29T00:00:00",
          "2016-04-29T00:00:00",
          "2016-04-26T00:00:00",
          "2016-04-26T00:00:00",
          "2016-04-26T00:00:00",
          "2016-04-26T00:00:00",
          "2016-04-26T00:00:00",
          "2016-04-26T00:00:00",
          "2016-04-26T00:00:00",
          "2016-04-26T00:00:00",
          "2016-04-26T00:00:00",
          "2016-04-26T00:00:00",
          "2016-04-26T00:00:00",
          "2016-04-24T00:00:00",
          "2016-04-24T00:00:00",
          "2016-04-24T00:00:00",
          "2016-04-24T00:00:00",
          "2016-04-24T00:00:00",
          "2016-04-23T00:00:00",
          "2016-04-23T00:00:00",
          "2016-04-23T00:00:00",
          "2016-04-23T00:00:00",
          "2016-04-23T00:00:00",
          "2016-04-23T00:00:00",
          "2016-04-23T00:00:00",
          "2016-04-23T00:00:00",
          "2016-04-23T00:00:00",
          "2016-04-23T00:00:00",
          "2016-04-22T00:00:00",
          "2016-04-22T00:00:00",
          "2016-04-22T00:00:00",
          "2016-04-22T00:00:00",
          "2016-04-22T00:00:00",
          "2016-04-22T00:00:00",
          "2016-04-21T00:00:00",
          "2016-04-21T00:00:00",
          "2016-04-21T00:00:00",
          "2016-04-21T00:00:00",
          "2016-04-21T00:00:00",
          "2016-04-21T00:00:00",
          "2016-04-20T00:00:00",
          "2016-04-20T00:00:00",
          "2016-04-20T00:00:00",
          "2016-04-20T00:00:00",
          "2016-04-20T00:00:00",
          "2016-04-20T00:00:00",
          "2016-04-20T00:00:00",
          "2016-04-20T00:00:00",
          "2016-04-20T00:00:00",
          "2016-04-19T00:00:00",
          "2016-04-19T00:00:00",
          "2016-04-19T00:00:00",
          "2016-04-19T00:00:00",
          "2016-04-19T00:00:00",
          "2016-04-18T00:00:00",
          "2016-04-18T00:00:00",
          "2016-04-18T00:00:00",
          "2016-04-18T00:00:00",
          "2016-04-17T00:00:00",
          "2016-04-17T00:00:00",
          "2016-04-17T00:00:00",
          "2016-04-17T00:00:00",
          "2016-04-17T00:00:00",
          "2016-04-17T00:00:00",
          "2016-04-16T00:00:00",
          "2016-04-16T00:00:00",
          "2016-04-16T00:00:00",
          "2016-04-16T00:00:00",
          "2016-04-16T00:00:00",
          "2016-04-16T00:00:00",
          "2016-04-16T00:00:00",
          "2016-04-16T00:00:00",
          "2016-04-16T00:00:00",
          "2016-04-16T00:00:00",
          "2016-04-16T00:00:00",
          "2016-04-16T00:00:00",
          "2016-04-15T00:00:00",
          "2016-04-15T00:00:00",
          "2016-04-15T00:00:00",
          "2016-04-15T00:00:00",
          "2016-04-15T00:00:00",
          "2016-04-15T00:00:00",
          "2016-04-15T00:00:00",
          "2016-04-15T00:00:00",
          "2016-04-15T00:00:00",
          "2016-04-15T00:00:00",
          "2016-04-15T00:00:00",
          "2016-04-14T00:00:00",
          "2016-04-14T00:00:00",
          "2016-04-14T00:00:00",
          "2016-04-14T00:00:00",
          "2016-04-14T00:00:00",
          "2016-04-14T00:00:00",
          "2016-04-13T00:00:00",
          "2016-04-13T00:00:00",
          "2016-04-13T00:00:00",
          "2016-04-13T00:00:00",
          "2016-04-13T00:00:00",
          "2016-04-13T00:00:00",
          "2016-04-13T00:00:00",
          "2016-04-12T00:00:00",
          "2016-04-12T00:00:00",
          "2016-04-12T00:00:00",
          "2016-04-12T00:00:00",
          "2016-04-12T00:00:00",
          "2016-04-11T00:00:00",
          "2016-04-11T00:00:00",
          "2016-04-11T00:00:00",
          "2016-04-10T00:00:00",
          "2016-04-10T00:00:00",
          "2016-04-10T00:00:00",
          "2016-04-10T00:00:00",
          "2016-04-10T00:00:00",
          "2016-04-10T00:00:00",
          "2016-04-10T00:00:00",
          "2016-04-10T00:00:00",
          "2016-04-10T00:00:00",
          "2016-04-10T00:00:00",
          "2016-04-10T00:00:00",
          "2016-04-10T00:00:00",
          "2016-04-09T00:00:00",
          "2016-04-09T00:00:00",
          "2016-04-09T00:00:00",
          "2016-04-09T00:00:00",
          "2016-04-09T00:00:00",
          "2016-04-09T00:00:00",
          "2016-04-09T00:00:00",
          "2016-04-09T00:00:00",
          "2016-04-09T00:00:00",
          "2016-04-09T00:00:00",
          "2016-04-09T00:00:00",
          "2016-04-09T00:00:00",
          "2016-04-09T00:00:00",
          "2016-04-09T00:00:00",
          "2016-04-09T00:00:00",
          "2016-04-09T00:00:00",
          "2016-04-09T00:00:00",
          "2016-04-09T00:00:00",
          "2016-04-09T00:00:00",
          "2016-04-08T00:00:00",
          "2016-04-08T00:00:00",
          "2016-04-08T00:00:00",
          "2016-04-08T00:00:00",
          "2016-04-08T00:00:00",
          "2016-04-08T00:00:00",
          "2016-04-08T00:00:00",
          "2016-04-08T00:00:00",
          "2016-04-08T00:00:00",
          "2016-04-08T00:00:00",
          "2016-04-08T00:00:00",
          "2016-04-07T00:00:00",
          "2016-04-07T00:00:00",
          "2016-04-07T00:00:00",
          "2016-04-07T00:00:00",
          "2016-04-07T00:00:00",
          "2016-04-06T00:00:00",
          "2016-04-06T00:00:00",
          "2016-04-06T00:00:00",
          "2016-04-06T00:00:00",
          "2016-04-06T00:00:00",
          "2016-04-06T00:00:00",
          "2016-04-06T00:00:00",
          "2016-04-06T00:00:00",
          "2016-04-06T00:00:00",
          "2016-04-05T00:00:00",
          "2016-04-05T00:00:00",
          "2016-04-04T00:00:00",
          "2016-04-04T00:00:00",
          "2016-04-04T00:00:00",
          "2016-04-04T00:00:00",
          "2016-04-03T00:00:00",
          "2016-04-03T00:00:00",
          "2016-04-03T00:00:00",
          "2016-04-03T00:00:00",
          "2016-04-03T00:00:00",
          "2016-04-02T00:00:00",
          "2016-04-02T00:00:00",
          "2016-04-02T00:00:00",
          "2016-04-02T00:00:00",
          "2016-04-02T00:00:00",
          "2016-04-02T00:00:00",
          "2016-04-02T00:00:00",
          "2016-04-02T00:00:00",
          "2016-04-02T00:00:00",
          "2016-04-01T00:00:00",
          "2016-04-01T00:00:00",
          "2016-04-01T00:00:00",
          "2016-04-01T00:00:00",
          "2016-04-01T00:00:00",
          "2016-04-01T00:00:00",
          "2016-04-01T00:00:00",
          "2016-04-01T00:00:00",
          "2016-04-01T00:00:00"
         ],
         "xaxis": "x",
         "y": [
          1,
          1,
          1,
          1,
          1,
          1,
          3,
          1,
          1,
          1,
          3,
          1,
          1,
          1,
          1,
          1,
          1,
          1,
          1,
          1,
          1,
          1,
          2,
          1,
          1,
          1,
          1,
          1,
          1,
          1,
          1,
          1,
          1,
          1,
          1,
          1,
          1,
          1,
          1,
          1,
          1,
          2,
          1,
          1,
          1,
          1,
          1,
          2,
          1,
          1,
          1,
          1,
          1,
          1,
          1,
          1,
          1,
          1,
          1,
          2,
          1,
          1,
          1,
          1,
          1,
          8,
          2,
          1,
          1,
          1,
          1,
          1,
          1,
          1,
          1,
          1,
          1,
          1,
          1,
          1,
          1,
          1,
          1,
          1,
          1,
          5,
          1,
          1,
          1,
          1,
          1,
          1,
          1,
          1,
          2,
          2,
          1,
          1,
          1,
          1,
          1,
          1,
          1,
          1,
          1,
          1,
          1,
          1,
          1,
          1,
          4,
          1,
          1,
          1,
          1,
          1,
          5,
          1,
          1,
          1,
          1,
          1,
          1,
          1,
          1,
          1,
          1,
          1,
          1,
          3,
          1,
          1,
          1,
          1,
          1,
          1,
          1,
          1,
          1,
          1,
          1,
          1,
          1,
          1,
          1,
          1,
          2,
          1,
          1,
          1,
          1,
          1,
          1,
          1,
          1,
          1,
          1,
          1,
          1,
          1,
          1,
          1,
          1,
          1,
          1,
          1,
          1,
          1,
          1,
          1,
          1,
          1,
          1,
          2,
          1,
          1,
          1,
          1,
          1,
          1,
          1,
          1,
          1,
          1,
          1,
          1,
          1,
          1,
          1,
          1,
          1,
          1,
          1,
          1,
          1,
          1,
          1,
          1,
          1,
          1,
          1,
          1,
          1,
          1,
          1,
          1,
          1,
          1,
          3,
          1,
          1,
          1,
          1,
          2,
          1,
          1,
          1,
          1,
          1,
          1,
          6,
          1,
          1,
          1,
          1,
          1,
          1,
          1,
          1,
          1,
          1,
          1,
          1,
          1,
          1,
          1,
          1,
          1,
          1,
          1,
          1,
          1,
          1,
          1,
          1,
          1,
          1,
          1,
          1,
          1,
          1,
          1,
          1,
          1,
          1,
          1,
          1,
          1,
          1,
          1,
          1,
          1,
          1,
          1,
          1,
          1,
          1,
          1,
          1,
          1,
          1,
          1,
          1,
          1,
          1,
          1,
          1,
          1,
          1,
          1,
          1,
          1,
          1,
          1,
          1,
          1,
          5,
          1,
          1,
          1,
          1,
          1,
          1,
          1,
          1,
          1,
          1,
          1,
          1,
          1,
          1,
          1,
          1,
          1,
          1,
          1,
          3,
          1,
          1,
          1,
          1,
          1,
          1,
          1,
          1,
          1,
          1,
          1,
          1,
          1,
          1,
          1,
          1,
          6,
          1,
          1,
          1,
          1,
          1,
          1,
          1,
          1,
          1,
          1,
          1,
          1,
          1,
          1,
          1,
          1,
          1,
          1,
          1,
          1,
          1,
          1,
          1,
          1,
          1,
          1,
          1,
          1,
          1,
          1,
          1,
          3,
          1,
          1,
          1,
          1,
          1,
          1,
          1,
          1,
          1,
          1,
          1,
          1,
          1,
          2,
          1,
          1,
          1,
          1,
          1
         ],
         "yaxis": "y"
        }
       ],
       "layout": {
        "legend": {
         "tracegroupgap": 0
        },
        "template": {
         "data": {
          "bar": [
           {
            "error_x": {
             "color": "#2a3f5f"
            },
            "error_y": {
             "color": "#2a3f5f"
            },
            "marker": {
             "line": {
              "color": "#E5ECF6",
              "width": 0.5
             },
             "pattern": {
              "fillmode": "overlay",
              "size": 10,
              "solidity": 0.2
             }
            },
            "type": "bar"
           }
          ],
          "barpolar": [
           {
            "marker": {
             "line": {
              "color": "#E5ECF6",
              "width": 0.5
             },
             "pattern": {
              "fillmode": "overlay",
              "size": 10,
              "solidity": 0.2
             }
            },
            "type": "barpolar"
           }
          ],
          "carpet": [
           {
            "aaxis": {
             "endlinecolor": "#2a3f5f",
             "gridcolor": "white",
             "linecolor": "white",
             "minorgridcolor": "white",
             "startlinecolor": "#2a3f5f"
            },
            "baxis": {
             "endlinecolor": "#2a3f5f",
             "gridcolor": "white",
             "linecolor": "white",
             "minorgridcolor": "white",
             "startlinecolor": "#2a3f5f"
            },
            "type": "carpet"
           }
          ],
          "choropleth": [
           {
            "colorbar": {
             "outlinewidth": 0,
             "ticks": ""
            },
            "type": "choropleth"
           }
          ],
          "contour": [
           {
            "colorbar": {
             "outlinewidth": 0,
             "ticks": ""
            },
            "colorscale": [
             [
              0,
              "#0d0887"
             ],
             [
              0.1111111111111111,
              "#46039f"
             ],
             [
              0.2222222222222222,
              "#7201a8"
             ],
             [
              0.3333333333333333,
              "#9c179e"
             ],
             [
              0.4444444444444444,
              "#bd3786"
             ],
             [
              0.5555555555555556,
              "#d8576b"
             ],
             [
              0.6666666666666666,
              "#ed7953"
             ],
             [
              0.7777777777777778,
              "#fb9f3a"
             ],
             [
              0.8888888888888888,
              "#fdca26"
             ],
             [
              1,
              "#f0f921"
             ]
            ],
            "type": "contour"
           }
          ],
          "contourcarpet": [
           {
            "colorbar": {
             "outlinewidth": 0,
             "ticks": ""
            },
            "type": "contourcarpet"
           }
          ],
          "heatmap": [
           {
            "colorbar": {
             "outlinewidth": 0,
             "ticks": ""
            },
            "colorscale": [
             [
              0,
              "#0d0887"
             ],
             [
              0.1111111111111111,
              "#46039f"
             ],
             [
              0.2222222222222222,
              "#7201a8"
             ],
             [
              0.3333333333333333,
              "#9c179e"
             ],
             [
              0.4444444444444444,
              "#bd3786"
             ],
             [
              0.5555555555555556,
              "#d8576b"
             ],
             [
              0.6666666666666666,
              "#ed7953"
             ],
             [
              0.7777777777777778,
              "#fb9f3a"
             ],
             [
              0.8888888888888888,
              "#fdca26"
             ],
             [
              1,
              "#f0f921"
             ]
            ],
            "type": "heatmap"
           }
          ],
          "heatmapgl": [
           {
            "colorbar": {
             "outlinewidth": 0,
             "ticks": ""
            },
            "colorscale": [
             [
              0,
              "#0d0887"
             ],
             [
              0.1111111111111111,
              "#46039f"
             ],
             [
              0.2222222222222222,
              "#7201a8"
             ],
             [
              0.3333333333333333,
              "#9c179e"
             ],
             [
              0.4444444444444444,
              "#bd3786"
             ],
             [
              0.5555555555555556,
              "#d8576b"
             ],
             [
              0.6666666666666666,
              "#ed7953"
             ],
             [
              0.7777777777777778,
              "#fb9f3a"
             ],
             [
              0.8888888888888888,
              "#fdca26"
             ],
             [
              1,
              "#f0f921"
             ]
            ],
            "type": "heatmapgl"
           }
          ],
          "histogram": [
           {
            "marker": {
             "pattern": {
              "fillmode": "overlay",
              "size": 10,
              "solidity": 0.2
             }
            },
            "type": "histogram"
           }
          ],
          "histogram2d": [
           {
            "colorbar": {
             "outlinewidth": 0,
             "ticks": ""
            },
            "colorscale": [
             [
              0,
              "#0d0887"
             ],
             [
              0.1111111111111111,
              "#46039f"
             ],
             [
              0.2222222222222222,
              "#7201a8"
             ],
             [
              0.3333333333333333,
              "#9c179e"
             ],
             [
              0.4444444444444444,
              "#bd3786"
             ],
             [
              0.5555555555555556,
              "#d8576b"
             ],
             [
              0.6666666666666666,
              "#ed7953"
             ],
             [
              0.7777777777777778,
              "#fb9f3a"
             ],
             [
              0.8888888888888888,
              "#fdca26"
             ],
             [
              1,
              "#f0f921"
             ]
            ],
            "type": "histogram2d"
           }
          ],
          "histogram2dcontour": [
           {
            "colorbar": {
             "outlinewidth": 0,
             "ticks": ""
            },
            "colorscale": [
             [
              0,
              "#0d0887"
             ],
             [
              0.1111111111111111,
              "#46039f"
             ],
             [
              0.2222222222222222,
              "#7201a8"
             ],
             [
              0.3333333333333333,
              "#9c179e"
             ],
             [
              0.4444444444444444,
              "#bd3786"
             ],
             [
              0.5555555555555556,
              "#d8576b"
             ],
             [
              0.6666666666666666,
              "#ed7953"
             ],
             [
              0.7777777777777778,
              "#fb9f3a"
             ],
             [
              0.8888888888888888,
              "#fdca26"
             ],
             [
              1,
              "#f0f921"
             ]
            ],
            "type": "histogram2dcontour"
           }
          ],
          "mesh3d": [
           {
            "colorbar": {
             "outlinewidth": 0,
             "ticks": ""
            },
            "type": "mesh3d"
           }
          ],
          "parcoords": [
           {
            "line": {
             "colorbar": {
              "outlinewidth": 0,
              "ticks": ""
             }
            },
            "type": "parcoords"
           }
          ],
          "pie": [
           {
            "automargin": true,
            "type": "pie"
           }
          ],
          "scatter": [
           {
            "fillpattern": {
             "fillmode": "overlay",
             "size": 10,
             "solidity": 0.2
            },
            "type": "scatter"
           }
          ],
          "scatter3d": [
           {
            "line": {
             "colorbar": {
              "outlinewidth": 0,
              "ticks": ""
             }
            },
            "marker": {
             "colorbar": {
              "outlinewidth": 0,
              "ticks": ""
             }
            },
            "type": "scatter3d"
           }
          ],
          "scattercarpet": [
           {
            "marker": {
             "colorbar": {
              "outlinewidth": 0,
              "ticks": ""
             }
            },
            "type": "scattercarpet"
           }
          ],
          "scattergeo": [
           {
            "marker": {
             "colorbar": {
              "outlinewidth": 0,
              "ticks": ""
             }
            },
            "type": "scattergeo"
           }
          ],
          "scattergl": [
           {
            "marker": {
             "colorbar": {
              "outlinewidth": 0,
              "ticks": ""
             }
            },
            "type": "scattergl"
           }
          ],
          "scattermapbox": [
           {
            "marker": {
             "colorbar": {
              "outlinewidth": 0,
              "ticks": ""
             }
            },
            "type": "scattermapbox"
           }
          ],
          "scatterpolar": [
           {
            "marker": {
             "colorbar": {
              "outlinewidth": 0,
              "ticks": ""
             }
            },
            "type": "scatterpolar"
           }
          ],
          "scatterpolargl": [
           {
            "marker": {
             "colorbar": {
              "outlinewidth": 0,
              "ticks": ""
             }
            },
            "type": "scatterpolargl"
           }
          ],
          "scatterternary": [
           {
            "marker": {
             "colorbar": {
              "outlinewidth": 0,
              "ticks": ""
             }
            },
            "type": "scatterternary"
           }
          ],
          "surface": [
           {
            "colorbar": {
             "outlinewidth": 0,
             "ticks": ""
            },
            "colorscale": [
             [
              0,
              "#0d0887"
             ],
             [
              0.1111111111111111,
              "#46039f"
             ],
             [
              0.2222222222222222,
              "#7201a8"
             ],
             [
              0.3333333333333333,
              "#9c179e"
             ],
             [
              0.4444444444444444,
              "#bd3786"
             ],
             [
              0.5555555555555556,
              "#d8576b"
             ],
             [
              0.6666666666666666,
              "#ed7953"
             ],
             [
              0.7777777777777778,
              "#fb9f3a"
             ],
             [
              0.8888888888888888,
              "#fdca26"
             ],
             [
              1,
              "#f0f921"
             ]
            ],
            "type": "surface"
           }
          ],
          "table": [
           {
            "cells": {
             "fill": {
              "color": "#EBF0F8"
             },
             "line": {
              "color": "white"
             }
            },
            "header": {
             "fill": {
              "color": "#C8D4E3"
             },
             "line": {
              "color": "white"
             }
            },
            "type": "table"
           }
          ]
         },
         "layout": {
          "annotationdefaults": {
           "arrowcolor": "#2a3f5f",
           "arrowhead": 0,
           "arrowwidth": 1
          },
          "autotypenumbers": "strict",
          "coloraxis": {
           "colorbar": {
            "outlinewidth": 0,
            "ticks": ""
           }
          },
          "colorscale": {
           "diverging": [
            [
             0,
             "#8e0152"
            ],
            [
             0.1,
             "#c51b7d"
            ],
            [
             0.2,
             "#de77ae"
            ],
            [
             0.3,
             "#f1b6da"
            ],
            [
             0.4,
             "#fde0ef"
            ],
            [
             0.5,
             "#f7f7f7"
            ],
            [
             0.6,
             "#e6f5d0"
            ],
            [
             0.7,
             "#b8e186"
            ],
            [
             0.8,
             "#7fbc41"
            ],
            [
             0.9,
             "#4d9221"
            ],
            [
             1,
             "#276419"
            ]
           ],
           "sequential": [
            [
             0,
             "#0d0887"
            ],
            [
             0.1111111111111111,
             "#46039f"
            ],
            [
             0.2222222222222222,
             "#7201a8"
            ],
            [
             0.3333333333333333,
             "#9c179e"
            ],
            [
             0.4444444444444444,
             "#bd3786"
            ],
            [
             0.5555555555555556,
             "#d8576b"
            ],
            [
             0.6666666666666666,
             "#ed7953"
            ],
            [
             0.7777777777777778,
             "#fb9f3a"
            ],
            [
             0.8888888888888888,
             "#fdca26"
            ],
            [
             1,
             "#f0f921"
            ]
           ],
           "sequentialminus": [
            [
             0,
             "#0d0887"
            ],
            [
             0.1111111111111111,
             "#46039f"
            ],
            [
             0.2222222222222222,
             "#7201a8"
            ],
            [
             0.3333333333333333,
             "#9c179e"
            ],
            [
             0.4444444444444444,
             "#bd3786"
            ],
            [
             0.5555555555555556,
             "#d8576b"
            ],
            [
             0.6666666666666666,
             "#ed7953"
            ],
            [
             0.7777777777777778,
             "#fb9f3a"
            ],
            [
             0.8888888888888888,
             "#fdca26"
            ],
            [
             1,
             "#f0f921"
            ]
           ]
          },
          "colorway": [
           "#636efa",
           "#EF553B",
           "#00cc96",
           "#ab63fa",
           "#FFA15A",
           "#19d3f3",
           "#FF6692",
           "#B6E880",
           "#FF97FF",
           "#FECB52"
          ],
          "font": {
           "color": "#2a3f5f"
          },
          "geo": {
           "bgcolor": "white",
           "lakecolor": "white",
           "landcolor": "#E5ECF6",
           "showlakes": true,
           "showland": true,
           "subunitcolor": "white"
          },
          "hoverlabel": {
           "align": "left"
          },
          "hovermode": "closest",
          "mapbox": {
           "style": "light"
          },
          "paper_bgcolor": "white",
          "plot_bgcolor": "#E5ECF6",
          "polar": {
           "angularaxis": {
            "gridcolor": "white",
            "linecolor": "white",
            "ticks": ""
           },
           "bgcolor": "#E5ECF6",
           "radialaxis": {
            "gridcolor": "white",
            "linecolor": "white",
            "ticks": ""
           }
          },
          "scene": {
           "xaxis": {
            "backgroundcolor": "#E5ECF6",
            "gridcolor": "white",
            "gridwidth": 2,
            "linecolor": "white",
            "showbackground": true,
            "ticks": "",
            "zerolinecolor": "white"
           },
           "yaxis": {
            "backgroundcolor": "#E5ECF6",
            "gridcolor": "white",
            "gridwidth": 2,
            "linecolor": "white",
            "showbackground": true,
            "ticks": "",
            "zerolinecolor": "white"
           },
           "zaxis": {
            "backgroundcolor": "#E5ECF6",
            "gridcolor": "white",
            "gridwidth": 2,
            "linecolor": "white",
            "showbackground": true,
            "ticks": "",
            "zerolinecolor": "white"
           }
          },
          "shapedefaults": {
           "line": {
            "color": "#2a3f5f"
           }
          },
          "ternary": {
           "aaxis": {
            "gridcolor": "white",
            "linecolor": "white",
            "ticks": ""
           },
           "baxis": {
            "gridcolor": "white",
            "linecolor": "white",
            "ticks": ""
           },
           "bgcolor": "#E5ECF6",
           "caxis": {
            "gridcolor": "white",
            "linecolor": "white",
            "ticks": ""
           }
          },
          "title": {
           "x": 0.05
          },
          "xaxis": {
           "automargin": true,
           "gridcolor": "white",
           "linecolor": "white",
           "ticks": "",
           "title": {
            "standoff": 15
           },
           "zerolinecolor": "white",
           "zerolinewidth": 2
          },
          "yaxis": {
           "automargin": true,
           "gridcolor": "white",
           "linecolor": "white",
           "ticks": "",
           "title": {
            "standoff": 15
           },
           "zerolinecolor": "white",
           "zerolinewidth": 2
          }
         }
        },
        "title": {
         "text": "Accidents in Kenya"
        },
        "xaxis": {
         "anchor": "y",
         "domain": [
          0,
          1
         ],
         "title": {
          "text": "Date DD/MM/YYYY"
         }
        },
        "yaxis": {
         "anchor": "x",
         "domain": [
          0,
          1
         ],
         "title": {
          "text": "NO."
         }
        }
       }
      }
     },
     "metadata": {},
     "output_type": "display_data"
    }
   ],
   "source": [
    "'''Index(['TIME 24 HOURS', 'BASE/SUB BASE', 'COUNTY', 'ROAD', 'PLACE',\n",
    "       'BRIEF ACCIDENT DETAILS', 'GENDER', 'AGE', 'CAUSE CODE', 'VICTIM',\n",
    "       'NO.'],\n",
    "      dtype='object')'''\n",
    "# we can also use plotly to plot the data\n",
    "import plotly.express as px\n",
    "fig = px.line(df, x=df.index, y='NO.', title='Accidents in Kenya')\n",
    "fig.show()"
   ]
  },
  {
   "cell_type": "code",
   "execution_count": 56,
   "metadata": {},
   "outputs": [
    {
     "name": "stderr",
     "output_type": "stream",
     "text": [
      "C:\\Users\\JINEF\\AppData\\Local\\Temp\\ipykernel_9792\\2644074602.py:2: FutureWarning:\n",
      "\n",
      "The default value of numeric_only in DataFrameGroupBy.mean is deprecated. In a future version, numeric_only will default to False. Either specify numeric_only or select only columns which should be valid for the function.\n",
      "\n"
     ]
    },
    {
     "data": {
      "text/html": [
       "<div>\n",
       "<style scoped>\n",
       "    .dataframe tbody tr th:only-of-type {\n",
       "        vertical-align: middle;\n",
       "    }\n",
       "\n",
       "    .dataframe tbody tr th {\n",
       "        vertical-align: top;\n",
       "    }\n",
       "\n",
       "    .dataframe thead th {\n",
       "        text-align: right;\n",
       "    }\n",
       "</style>\n",
       "<table border=\"1\" class=\"dataframe\">\n",
       "  <thead>\n",
       "    <tr style=\"text-align: right;\">\n",
       "      <th></th>\n",
       "      <th>CAUSE CODE</th>\n",
       "      <th>NO.</th>\n",
       "    </tr>\n",
       "    <tr>\n",
       "      <th>Date DD/MM/YYYY</th>\n",
       "      <th></th>\n",
       "      <th></th>\n",
       "    </tr>\n",
       "  </thead>\n",
       "  <tbody>\n",
       "    <tr>\n",
       "      <th>4</th>\n",
       "      <td>48.50000</td>\n",
       "      <td>1.108491</td>\n",
       "    </tr>\n",
       "    <tr>\n",
       "      <th>6</th>\n",
       "      <td>48.07362</td>\n",
       "      <td>1.196319</td>\n",
       "    </tr>\n",
       "  </tbody>\n",
       "</table>\n",
       "</div>"
      ],
      "text/plain": [
       "                 CAUSE CODE       NO.\n",
       "Date DD/MM/YYYY                      \n",
       "4                  48.50000  1.108491\n",
       "6                  48.07362  1.196319"
      ]
     },
     "execution_count": 56,
     "metadata": {},
     "output_type": "execute_result"
    }
   ],
   "source": [
    "# Time-based groupby:\n",
    "df.groupby(df.index.month).mean()\n"
   ]
  },
  {
   "attachments": {},
   "cell_type": "markdown",
   "metadata": {},
   "source": []
  },
  {
   "cell_type": "code",
   "execution_count": 76,
   "metadata": {},
   "outputs": [
    {
     "name": "stderr",
     "output_type": "stream",
     "text": [
      "C:\\Users\\JINEF\\AppData\\Local\\Temp\\ipykernel_9792\\4133831283.py:2: FutureWarning:\n",
      "\n",
      "The default value of numeric_only in DataFrameGroupBy.mean is deprecated. In a future version, numeric_only will default to False. Either specify numeric_only or select only columns which should be valid for the function.\n",
      "\n"
     ]
    },
    {
     "data": {
      "text/plain": [
       "<AxesSubplot: xlabel='Date DD/MM/YYYY,COUNTY'>"
      ]
     },
     "execution_count": 76,
     "metadata": {},
     "output_type": "execute_result"
    },
    {
     "data": {
      "image/png": "[encoded data removed]",
      "text/plain": [
       "<Figure size 1500x600 with 1 Axes>"
      ]
     },
     "metadata": {},
     "output_type": "display_data"
    }
   ],
   "source": [
    "# accidents per county per month\n",
    "df.groupby([df.index.month, 'COUNTY']).mean()['NO.'].plot(kind='bar', figsize=(15, 6))"
   ]
  },
  {
   "cell_type": "code",
   "execution_count": null,
   "metadata": {},
   "outputs": [],
   "source": []
  }
 ],
 "metadata": {
  "kernelspec": {
   "display_name": "Python 3",
   "language": "python",
   "name": "python3"
  },
  "language_info": {
   "codemirror_mode": {
    "name": "ipython",
    "version": 3
   },
   "file_extension": ".py",
   "mimetype": "text/x-python",
   "name": "python",
   "nbconvert_exporter": "python",
   "pygments_lexer": "ipython3",
   "version": "3.10.8"
  },
  "orig_nbformat": 4,
  "vscode": {
   "interpreter": {
    "hash": "355fdaec15c58b7d36ecd04dde14072823708ffede6c1eda7f0f2e7f7552ab6e"
   }
  }
 },
 "nbformat": 4,
 "nbformat_minor": 2
}
